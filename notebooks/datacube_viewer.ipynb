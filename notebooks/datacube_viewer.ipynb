{
 "cells": [
  {
   "cell_type": "markdown",
   "metadata": {},
   "source": [
    "# Datacube Viewer\n",
    "\n",
    "This notebook contains a viewer that shows what Sentinel-2 scenes are available in this Open Data Cube instance.\n",
    "\n",
    "There are two Products, Sentinel-2a and Sentinel-2b, referring to the two satellites.\n",
    "\n",
    "Each scene can be loaded in part or as a whole or along with other scenes using the Open Data Cube."
   ]
  },
  {
   "cell_type": "code",
   "execution_count": 6,
   "metadata": {},
   "outputs": [
    {
     "data": {
      "application/vnd.jupyter.widget-view+json": {
       "model_id": "7928ed3988434dc3affdbfc0af36366a",
       "version_major": 2,
       "version_minor": 0
      },
      "text/plain": [
       "VBox(children=(HBox(children=(Dropdown(layout=Layout(flex='0 1 auto', width='10em'), options=('ga_s2a_ard_nbar…"
      ]
     },
     "metadata": {},
     "output_type": "display_data"
    }
   ],
   "source": [
    "from odc.ui import DcViewer\n",
    "from datacube import Datacube\n",
    "\n",
    "dc = Datacube()\n",
    "\n",
    "DcViewer(\n",
    "    dc, \n",
    "    time='2019-01-01',\n",
    "    zoom=5,\n",
    "    center=(-38, 142),\n",
    "    height='500px', width='800px',\n",
    "    products='non-empty',\n",
    "    style={\n",
    "        'fillOpacity': 0.05,\n",
    "        'color': 'teal',\n",
    "        'weight': 0.7\n",
    "    }\n",
    ")"
   ]
  }
 ],
 "metadata": {
  "kernelspec": {
   "display_name": "Python 3",
   "language": "python",
   "name": "python3"
  },
  "language_info": {
   "codemirror_mode": {
    "name": "ipython",
    "version": 3
   },
   "file_extension": ".py",
   "mimetype": "text/x-python",
   "name": "python",
   "nbconvert_exporter": "python",
   "pygments_lexer": "ipython3",
   "version": "3.6.9"
  }
 },
 "nbformat": 4,
 "nbformat_minor": 4
}
